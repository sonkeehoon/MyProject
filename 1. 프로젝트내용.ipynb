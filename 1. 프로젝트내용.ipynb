{
 "cells": [
  {
   "cell_type": "markdown",
   "id": "51650d49",
   "metadata": {},
   "source": [
    "## 프로젝트 주제: 지하철 혼잡 시간대 및 노선 분석"
   ]
  },
  {
   "cell_type": "markdown",
   "id": "7d7d1073",
   "metadata": {},
   "source": [
    "**목표**\n",
    "\n",
    "- 지하철 이용 패턴을 분석하여 출퇴근 시간대의 혼잡도를 시각화.\n",
    "- 주요 노선 및 시간대의 승객 분포를 파악.\n",
    "- 데이터를 기반으로 혼잡도를 완화할 수 있는 개선안 제시."
   ]
  },
  {
   "cell_type": "markdown",
   "id": "d8a80e19",
   "metadata": {},
   "source": [
    "### 1. 데이터 수집"
   ]
  },
  {
   "cell_type": "markdown",
   "id": "01b21fa6",
   "metadata": {},
   "source": [
    "- **데이터 소스**: <u>공공 데이터 포털</u>에서 \"대중교통 이용 데이터\" 또는 서울교통공사의 승하차 데이터셋 활용.\n",
    "    - 한국교통안전공단\n",
    "        - 지역 간 대중교통 시간대별 철도 이용인원 : https://www.data.go.kr/data/15119714/fileData.do\n",
    "        - 지역 간 대중교통 요일별 이용인원 : https://www.data.go.kr/data/15119717/fileData.do\n",
    "        - 서울시 지하철호선별 역별 승하차 인원 정보 : http://data.seoul.go.kr/dataList/OA-12914/S/1/datasetView.do\n",
    "        \n",
    "<br>\n",
    "\n",
    "- **대안 데이터**: Kaggle에 있는 교통 관련 데이터셋 활용.\n",
    "- **데이터 내용**:\n",
    "    - 시간대별 승하차량\n",
    "    - 노선 번호 및 정류장 이름\n",
    "    - 요일(평일/주말) 및 계절별 변화"
   ]
  },
  {
   "cell_type": "markdown",
   "id": "6c554e7d",
   "metadata": {},
   "source": [
    "주피터랑 원드라이브 연동하는법 찾아보자"
   ]
  },
  {
   "cell_type": "markdown",
   "id": "63d74e70",
   "metadata": {},
   "source": []
  }
 ],
 "metadata": {
  "kernelspec": {
   "display_name": "Python 3",
   "language": "python",
   "name": "python3"
  },
  "language_info": {
   "codemirror_mode": {
    "name": "ipython",
    "version": 3
   },
   "file_extension": ".py",
   "mimetype": "text/x-python",
   "name": "python",
   "nbconvert_exporter": "python",
   "pygments_lexer": "ipython3",
   "version": "3.9.13"
  }
 },
 "nbformat": 4,
 "nbformat_minor": 5
}
